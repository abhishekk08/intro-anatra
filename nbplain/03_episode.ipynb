{
 "cells": [
  {
   "cell_type": "markdown",
   "metadata": {
    "slideshow": {
     "slide_type": "slide"
    }
   },
   "source": [
    "# Hardware"
   ]
  },
  {
   "cell_type": "markdown",
   "metadata": {
    "slideshow": {
     "slide_type": "subslide"
    }
   },
   "source": [
    "## Overview:\n",
    "- **Teaching:** 10 min\n",
    "- **Exercises:** 0 min\n",
    "\n",
    "**Questions**\n",
    "- What hardware is available?\n",
    "\n",
    "**Objectives**\n",
    "- Understand what compute resources are available on Anatra\n"
   ]
  },
  {
   "cell_type": "markdown",
   "metadata": {
    "slideshow": {
     "slide_type": "slide"
    }
   },
   "source": [
    "## Slurm partitions\n",
    "\n",
    "The new hpc service Anatra provides user access to an array of different compute instances. These instances are accessed through different slurm partitions.\n",
    "\n",
    "In order to list the partitions issue the following command:\n",
    "\n",
    "`sinfo`\n",
    "\n",
    "which will list the partitions, the nodes in the partitions, availability and the current state:\n",
    "\n",
    "\n",
    "```bash\n",
    "mjc62 in anatra-01 in ~\n",
    "❯ sinfo\n",
    "PARTITION    AVAIL  TIMELIMIT  NODES  STATE NODELIST\n",
    "batch*          up 3-00:00:00      8  maint node-[001-008]\n",
    "```"
   ]
  },
  {
   "cell_type": "markdown",
   "metadata": {},
   "source": [
    "## Information: Hardware\n",
    "\n",
    "The Anatra cluster consists of a login node and eight compute nodes.\n",
    "\n",
    "### Login node\n",
    "The login node has the following resources:\n",
    "- 48 Cores (24 x 2 AMD Milan processors)\n",
    "- 128 GB memory (16 x 8 GB)\n",
    "- ~10.7 TB of shared storage space\n",
    "- Nvidia Ampere A40 GPU card\n",
    "\n",
    "The GPU card enables us to support the use of VNC sessions for data visualisation including the use of Gaussview 6.\n",
    "\n",
    "### Compute nodes\n",
    "The compute nodes have the following resources:\n",
    "- 48 Cores (24 x 2 AMD Milan processors)\n",
    "- 256 GB memory (16 x 16 GB), \n",
    "  - ~5.3 GB / core\n",
    "  - 4 NUMA zones per socket\n",
    "  - 6 cores per NUMA zone\n",
    "- ~960 GB NVMe local storage\n",
    "\n",
    "It is worth noting that jobs which span multiple NUMA zones or sockets may see a notable decrease in performance if memory bandwidth limited. As such, it is rarely advisable to request 25 cores where 24 is sufficient."
   ]
  },
  {
   "cell_type": "markdown",
   "metadata": {},
   "source": [
    "## Key Points:\n",
    "- All compute resources are currently accessed via the `batch` partition, whilst VNC sessions are run via the login node"
   ]
  },
  {
   "cell_type": "code",
   "execution_count": null,
   "metadata": {},
   "outputs": [],
   "source": []
  }
 ],
 "metadata": {
  "celltoolbar": "Slideshow",
  "kernelspec": {
   "display_name": "Python 3",
   "language": "python",
   "name": "python3"
  },
  "language_info": {
   "codemirror_mode": {
    "name": "ipython",
    "version": 3
   },
   "file_extension": ".py",
   "mimetype": "text/x-python",
   "name": "python",
   "nbconvert_exporter": "python",
   "pygments_lexer": "ipython3",
   "version": "3.9.7"
  }
 },
 "nbformat": 4,
 "nbformat_minor": 2
}
