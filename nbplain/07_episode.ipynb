{
 "cells": [
  {
   "cell_type": "markdown",
   "id": "local-protocol",
   "metadata": {},
   "source": [
    "# Starting a VNC session"
   ]
  },
  {
   "cell_type": "markdown",
   "id": "paperback-newman",
   "metadata": {},
   "source": [
    "In order to start a VNC session, we load the `TurboVNC` module and start a server:\n",
    "\n",
    "```console\n",
    "mjc62 in anatra-01 in ~\n",
    "❯ module load TurboVNC\n",
    "\n",
    "mjc62 in anatra-01 in ~\n",
    "❯ vncserver -otp\n",
    "\n",
    "Desktop 'TurboVNC: anatra-01:1 (mjc62)' started on display anatra-01:1\n",
    "\n",
    "One-Time Password authentication enabled.  Generating initial OTP ...\n",
    "Full control one-time password: 32534535\n",
    "Run '/opt/TurboVNC/bin/vncpasswd -o' from within the TurboVNC session or\n",
    "    '/opt/TurboVNC/bin/vncpasswd -o -display :1' from within this shell\n",
    "    to generate additional OTPs\n",
    "Starting applications specified in /opt/TurboVNC/bin/xstartup.turbovnc\n",
    "Log file is /home/w/mjc62/.vnc/anatra-01:1.log\n",
    "```\n",
    "\n",
    "The `-otp` flag generates a one-time-password which can be used to log in to the session.\n",
    "\n",
    "Note that only one session may be run by a user at any time. If we attempt to start another session, we will see an error:\n",
    "\n",
    "```console\n",
    "mjc62 in anatra-01 in ~\n",
    "❯ vncserver\n",
    "You are already running a VNC session for mjc62 user. Maximum session is limited to 1 per user!\n",
    "Run 'vncserver -list' to list the current session\n",
    "Use 'vncserver -kill :<DISPLAY#>' to kill current session\n",
    "USER            PROCESS ID      X DISPLAY       PORT            VNC Session\n",
    "mjc62           14305          :1               5901            /opt/TurboVNC/bin/Xvnc\n",
    "\n",
    "\n",
    "mjc62 in anatra-01 in ~\n",
    "❯ vncserver -list\n",
    "\n",
    "TurboVNC sessions:\n",
    "\n",
    "X DISPLAY #\tPROCESS ID\tNOVNC PROCESS ID\n",
    ":1\t\t14305\n",
    "\n",
    "```\n",
    "\n",
    "This session will persist after closing the terminal, but will autokill itself after 6 hours. In order to end a session early, the `-kill` flag can be used with the `vncserver` command:\n",
    "\n",
    "```console\n",
    "mjc62 in anatra-01 in ~\n",
    "❯ module load TurboVNC\n",
    "\n",
    "mjc62 in anatra-01 in ~\n",
    "❯ vncserver -kill :1\n",
    "Killing Xvnc process ID 15717\n",
    "```"
   ]
  },
  {
   "cell_type": "markdown",
   "id": "innocent-course",
   "metadata": {},
   "source": [
    "## Connecting to the VNC session\n",
    "In order to connect to the VNC session, you must be connected to the University VPN. On windows, users can use TightVNC, whilst on MacOS the built in \"Screen Sharing\" application can be used.\n",
    "\n",
    "The port you must connect to corresponds to the number of the server you are running (5900 + [display number]).\n",
    "\n",
    "For example, if you are running on display `:1`, then the url you should connect to is `anatra.bath.ac.uk:5901`, using the one-time-password to log in to the VNC session:\n",
    "\n",
    "![anatra-vnc-url](../images/vnc-url.png)\n",
    "\n",
    "![anatra-vnc-pass](../images/vnc-password.png)\n",
    "\n",
    "You will then be presented with a desktop environment.\n",
    "\n",
    "![anatra-vnc-desktop](../images/vnc-login.png)\n"
   ]
  },
  {
   "cell_type": "markdown",
   "id": "7f5c7495",
   "metadata": {},
   "source": [
    "## Starting a Gaussview session\n",
    "\n",
    "From the desktop view, Gaussview can be started by opening a terminal and running the commands shown below:\n",
    "\n",
    "![anatra-vnc-term](../images/vnc-terminal.png)\n",
    "\n",
    "![anatra-vnc-term-gv](../images/vnc-terminal-gview.png)\n",
    "\n",
    "![anatra-vnc-term-gv](../images/vnc-gview.png)\n"
   ]
  },
  {
   "cell_type": "markdown",
   "id": "bcf35ff2",
   "metadata": {},
   "source": []
  }
 ],
 "metadata": {
  "kernelspec": {
   "display_name": "Python 3",
   "language": "python",
   "name": "python3"
  },
  "language_info": {
   "codemirror_mode": {
    "name": "ipython",
    "version": 3
   },
   "file_extension": ".py",
   "mimetype": "text/x-python",
   "name": "python",
   "nbconvert_exporter": "python",
   "pygments_lexer": "ipython3",
   "version": "3.9.7"
  }
 },
 "nbformat": 4,
 "nbformat_minor": 5
}
